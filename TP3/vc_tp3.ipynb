{
 "cells": [
  {
   "cell_type": "markdown",
   "metadata": {},
   "source": [
    "# TP 3 (17Co2024)\n",
    "#### Integrantes\n",
    "- Adassus, Luciano\n",
    "- de Pedro Mermier, Ignacio\n",
    "- Cagua, Jonathan"
   ]
  },
  {
   "cell_type": "markdown",
   "metadata": {},
   "source": [
    "## Parte 1\n",
    "\n",
    "Obtener una detección del logo en cada imagen sin falsos positivos"
   ]
  },
  {
   "cell_type": "code",
   "execution_count": 1,
   "metadata": {},
   "outputs": [],
   "source": [
    "%matplotlib qt\n",
    "import numpy as np\n",
    "import cv2 as cv\n",
    "import matplotlib.pyplot as plt"
   ]
  },
  {
   "cell_type": "markdown",
   "metadata": {},
   "source": [
    "Cargo las imagenes"
   ]
  },
  {
   "cell_type": "code",
   "execution_count": 2,
   "metadata": {},
   "outputs": [],
   "source": [
    "\n",
    "template = cv.imread('template/pattern.png')\n",
    "\n",
    "coca_logo_1 = cv.imread('images/coca_logo_1.png')\n",
    "coca_logo_2 = cv.imread('images/coca_logo_2.png')\n",
    "\n",
    "coca_cola_logo = cv.imread('images/COCA-COLA-LOGO.jpg')\n",
    "\n",
    "logo_1 = cv.imread('images/logo_1.png')\n",
    "\n",
    "coca_multi = cv.imread('images/coca_multi.png')\n",
    "\n",
    "coca_retro_1 = cv.imread('images/coca_retro_1.png')\n",
    "coca_retro_2 = cv.imread('images/coca_retro_2.png')\n",
    " "
   ]
  },
  {
   "cell_type": "markdown",
   "metadata": {},
   "source": [
    "Analizo el tamaño de cada imagen"
   ]
  },
  {
   "cell_type": "code",
   "execution_count": 3,
   "metadata": {},
   "outputs": [
    {
     "name": "stdout",
     "output_type": "stream",
     "text": [
      "Shapes\n",
      "coca_logo_1 (500, 207, 3)\n",
      "coca_logo_2 (363, 233, 3)\n",
      "coca_cola_logo (1389, 1389, 3)\n",
      "logo_1 (450, 687, 3)\n",
      "coca_multi (598, 799, 3)\n",
      "coca_retro_1 (493, 715, 3)\n",
      "coca_retro_2 (429, 715, 3)\n"
     ]
    }
   ],
   "source": [
    "# Analizo los tamaños de las imagenes\n",
    "print('Shapes')\n",
    "print('coca_logo_1',coca_logo_1.shape)\n",
    "print('coca_logo_2',coca_logo_2.shape)\n",
    "print('coca_cola_logo',coca_cola_logo.shape)\n",
    "print('logo_1',logo_1.shape)\n",
    "print('coca_multi',coca_multi.shape)\n",
    "print('coca_retro_1',coca_retro_1.shape)\n",
    "print('coca_retro_2',coca_retro_2.shape)"
   ]
  },
  {
   "cell_type": "code",
   "execution_count": 4,
   "metadata": {},
   "outputs": [],
   "source": [
    "# Funcion para detectar template matching con multiples escalas\n",
    "\n",
    "def multiScaleTemplateMatching(template,image,edge_detector=\"canny\",matchTempMethod = cv.TM_CCOEFF_NORMED,n_scales = 12):\n",
    "    # edge_detector puede ser Canny o Laplacian\n",
    "    if edge_detector != \"canny\" and edge_detector != \"laplacian\":\n",
    "        print('El parametro edge detector debe ser \"canny\" o \"laplacian\"')\n",
    "        return\n",
    "    # Paso las imagenes a escala de grises\n",
    "    imgGray = cv.cvtColor(image,cv.COLOR_BGR2GRAY)\n",
    "    tmpGray = cv.cvtColor(template,cv.COLOR_BGR2GRAY)\n",
    "\n",
    "    # Aplico Gaussian Blur para sacar ruido\n",
    "    imgGray = cv.GaussianBlur(imgGray,(5,5),0)\n",
    "    #Obtengo bordes segun el metodo de deteccion\n",
    "    if edge_detector == \"canny\":\n",
    "        imgGray = cv.Canny(imgGray, 100, 120, apertureSize = 3)\n",
    "    elif edge_detector == \"laplacian\":\n",
    "        imgGray = cv.Laplacian(imgGray, cv.CV_8U)\n",
    "    \n",
    "    # Voy a reescalar el template n_scales veces partiendo desde el ancho de la imagen\n",
    "    th,tw = tmpGray.shape\n",
    "    ih,iw = imgGray.shape\n",
    "    scales = np.linspace(0, iw/tw, n_scales+1)[1:]\n",
    "\n",
    "    # Listas para resultados\n",
    "    matching_results = list()\n",
    "    minmax_results = list()\n",
    "    template_shapes = list()\n",
    "    \n",
    "    for scale in scales:\n",
    "        # escalo el template\n",
    "        tmpGray_scaled = cv.resize(tmpGray, None, fx=scale, fy=scale)\n",
    "        # le aplico el Gaussian Blur para sacar ruido\n",
    "        tmpGray_scaled = cv.GaussianBlur(tmpGray_scaled,(3,3),0)\n",
    "        \n",
    "        #Obtengo bordes segun el metodo de deteccion\n",
    "        if edge_detector == \"canny\":\n",
    "            tmpGray_scaled = cv.Canny(tmpGray_scaled, 150, 180, apertureSize = 3)\n",
    "        elif edge_detector == \"laplacian\":\n",
    "            tmpGray_scaled = cv.Laplacian(tmpGray_scaled, cv.CV_8U)\n",
    "        \n",
    "        # cv.imshow('tmpGray-scaled',tmpGray_scaled)\n",
    "        # cv.waitKey(0)\n",
    "        \n",
    "        tsh,tsw = tmpGray_scaled.shape\n",
    "        \n",
    "        # Aplico el template matching \n",
    "        result = cv.matchTemplate(imgGray, tmpGray_scaled, matchTempMethod)\n",
    "        # Normalizo el resultado \n",
    "        result = (result-np.mean(result))/np.std(result)\n",
    "        \n",
    "        # Guardo el resultado\n",
    "        matching_results.append(result)\n",
    "\n",
    "        # minMaxLoc para bounding box \n",
    "        min_val, max_val, min_loc, max_loc = cv.minMaxLoc(result)\n",
    "        \n",
    "        #Guardo minMaxLocResult\n",
    "        minmax_results.append([min_val, max_val, min_loc, max_loc])\n",
    "\n",
    "        # Guardo shape del template\n",
    "        template_shapes.append([tsh,tsw])\n",
    "\n",
    "    # Obtengo el mejor matching para todos los casos y obtengo su ubicacion\n",
    "\n",
    "    if matchTempMethod == cv.TM_CCOEFF_NORMED or matchTempMethod == cv.TM_CCORR_NORMED:\n",
    "        # busco el maximo de maximos\n",
    "        max_column = [sublist[1] for sublist in minmax_results]\n",
    "        max_value = max(max_column)\n",
    "        max_index = max_column.index(max_value)\n",
    "\n",
    "        match_value = max_value\n",
    "        match_index = max_index\n",
    "        # Nivel de confianza de la deteccion (como estoy trabajando con la mejor deteccion le pongo 100%)\n",
    "        confidence_value = 1\n",
    "        \n",
    "    elif matchTempMethod == cv.TM_SQDIFF_NORMED:\n",
    "        # busco el minimo de minimos\n",
    "        min_column = [sublist[0] for sublist in minmax_results]\n",
    "        min_value = max(min_column)\n",
    "        min_index = min_column.index(min_value)\n",
    "\n",
    "        match_value = min_value\n",
    "        match_index = min_index\n",
    "        # Nivel de confianza de la deteccion (como estoy trabajando con la mejor deteccion le pongo 100%)\n",
    "        confidence_value = 1\n",
    "\n",
    "    else:\n",
    "        print('matchTempMethod error')\n",
    "        return\n",
    "    \n",
    "    # Imagen + Bounding box + Score\n",
    "    matchImg = image.copy()\n",
    "    topLeft = minmax_results[match_index][3]\n",
    "    bottomRight = (minmax_results[match_index][3][0]+template_shapes[match_index][1],minmax_results[match_index][3][1]+template_shapes[match_index][0])\n",
    " \n",
    "    cv.rectangle(matchImg, topLeft, bottomRight, (255,0,0), 2)\n",
    "    cv.putText(matchImg,f'Score {str(int(confidence_value*100))}%', (topLeft[0],topLeft[1]-6), cv.QT_FONT_NORMAL, 0.45, (255,0,0))  \n",
    "  \n",
    "    return matchImg\n"
   ]
  },
  {
   "cell_type": "markdown",
   "metadata": {},
   "source": [
    "Probamos las distintas imagenes con el detector de bordes \"Laplaciano\" y metodo de detección \"Coeficiente de correlacion normalizado\""
   ]
  },
  {
   "cell_type": "code",
   "execution_count": 5,
   "metadata": {},
   "outputs": [],
   "source": [
    "# Template Matching usando TM_CCOEFF_NORMED\n",
    "filter_border = \"laplacian\" #\"canny\"\n",
    "resultImg = multiScaleTemplateMatching(template, coca_logo_1, filter_border,cv.TM_CCOEFF_NORMED,10)\n",
    "cv.imshow('resultImg',resultImg)\n",
    "cv.waitKey(0)\n",
    "resultImg = multiScaleTemplateMatching(template, coca_logo_2,filter_border,cv.TM_CCOEFF_NORMED, 1)\n",
    "cv.imshow('resultImg',resultImg)\n",
    "cv.waitKey(0)\n",
    "resultImg = multiScaleTemplateMatching(template, coca_cola_logo, filter_border,cv.TM_CCOEFF_NORMED,10)\n",
    "cv.imshow('resultImg',resultImg)\n",
    "cv.waitKey(0)\n",
    "resultImg = multiScaleTemplateMatching(template, logo_1, filter_border,cv.TM_CCOEFF_NORMED,10)\n",
    "cv.imshow('resultImg',resultImg)\n",
    "cv.waitKey(0)\n",
    "resultImg = multiScaleTemplateMatching(template, coca_retro_1, filter_border,cv.TM_CCOEFF_NORMED,10)\n",
    "cv.imshow('resultImg',resultImg)\n",
    "cv.waitKey(0)\n",
    "resultImg = multiScaleTemplateMatching(template, coca_retro_2, filter_border,cv.TM_CCOEFF_NORMED,10)\n",
    "cv.imshow('resultImg',resultImg)\n",
    "cv.waitKey(0)\n",
    "resultImg = multiScaleTemplateMatching(template, coca_multi, filter_border,cv.TM_CCOEFF_NORMED,39)\n",
    "cv.imshow('resultImg',resultImg)\n",
    "cv.waitKey(0)\n",
    "\n",
    "cv.destroyAllWindows()\n"
   ]
  },
  {
   "cell_type": "markdown",
   "metadata": {},
   "source": [
    "Probamos las distintas imagenes con el detector de bordes \"Canny\" y metodo de detección \"Coeficiente de correlacion normalizado\""
   ]
  },
  {
   "cell_type": "code",
   "execution_count": 6,
   "metadata": {},
   "outputs": [],
   "source": [
    "# Template Matching usando TM_CCOEFF_NORMED\n",
    "filter_border = \"canny\" #\"canny\"\n",
    "resultImg = multiScaleTemplateMatching(template, coca_logo_1, filter_border,cv.TM_CCOEFF_NORMED,10)\n",
    "cv.imshow('resultImg',resultImg)\n",
    "cv.waitKey(0)\n",
    "resultImg = multiScaleTemplateMatching(template, coca_logo_2,filter_border,cv.TM_CCOEFF_NORMED, 1)\n",
    "cv.imshow('resultImg',resultImg)\n",
    "cv.waitKey(0)\n",
    "resultImg = multiScaleTemplateMatching(template, coca_cola_logo, filter_border,cv.TM_CCOEFF_NORMED,10)\n",
    "cv.imshow('resultImg',resultImg)\n",
    "cv.waitKey(0)\n",
    "resultImg = multiScaleTemplateMatching(template, logo_1, filter_border,cv.TM_CCOEFF_NORMED,10)\n",
    "cv.imshow('resultImg',resultImg)\n",
    "cv.waitKey(0)\n",
    "resultImg = multiScaleTemplateMatching(template, coca_retro_1, filter_border,cv.TM_CCOEFF_NORMED,10)\n",
    "cv.imshow('resultImg',resultImg)\n",
    "cv.waitKey(0)\n",
    "resultImg = multiScaleTemplateMatching(template, coca_retro_2, filter_border,cv.TM_CCOEFF_NORMED,10)\n",
    "cv.imshow('resultImg',resultImg)\n",
    "cv.waitKey(0)\n",
    "resultImg = multiScaleTemplateMatching(template, coca_multi, filter_border,cv.TM_CCOEFF_NORMED,39)\n",
    "cv.imshow('resultImg',resultImg)\n",
    "cv.waitKey(0)\n",
    "\n",
    "cv.destroyAllWindows()\n"
   ]
  },
  {
   "cell_type": "markdown",
   "metadata": {},
   "source": [
    "Probamos las distintas imagenes con el detector de bordes \"Laplaciano\" y metodo de detección \"Correlacion Cruzada normalizada\""
   ]
  },
  {
   "cell_type": "code",
   "execution_count": 7,
   "metadata": {},
   "outputs": [],
   "source": [
    "# Template Matching usando TM_CCORR_NORMED\n",
    "edge_detection = \"laplacian\" #\"canny\"\n",
    "resultImg = multiScaleTemplateMatching(template, coca_logo_1, edge_detection,cv.TM_CCORR_NORMED,10)\n",
    "cv.imshow('resultImg',resultImg)\n",
    "cv.waitKey(0)\n",
    "resultImg = multiScaleTemplateMatching(template, coca_logo_2,edge_detection,cv.TM_CCORR_NORMED, 1)\n",
    "cv.imshow('resultImg',resultImg)\n",
    "cv.waitKey(0)\n",
    "resultImg = multiScaleTemplateMatching(template, coca_cola_logo, edge_detection,cv.TM_CCORR_NORMED,10)\n",
    "cv.imshow('resultImg',resultImg)\n",
    "cv.waitKey(0)\n",
    "resultImg = multiScaleTemplateMatching(template, logo_1, edge_detection,cv.TM_CCORR_NORMED,10)\n",
    "cv.imshow('resultImg',resultImg)\n",
    "cv.waitKey(0)\n",
    "resultImg = multiScaleTemplateMatching(template, coca_retro_1, edge_detection,cv.TM_CCORR_NORMED,12)\n",
    "cv.imshow('resultImg',resultImg)\n",
    "cv.waitKey(0)\n",
    "resultImg = multiScaleTemplateMatching(template, coca_retro_2, edge_detection,cv.TM_CCORR_NORMED,10)\n",
    "cv.imshow('resultImg',resultImg)\n",
    "cv.waitKey(0)\n",
    "resultImg = multiScaleTemplateMatching(template, coca_multi, edge_detection,cv.TM_CCORR_NORMED,39)\n",
    "cv.imshow('resultImg',resultImg)\n",
    "cv.waitKey(0)\n",
    "\n",
    "cv.destroyAllWindows()"
   ]
  },
  {
   "cell_type": "markdown",
   "metadata": {},
   "source": [
    "Probamos las distintas imagenes con el detector de bordes \"Canny\" y metodo de detección \"Correlacion Cruzada normalizada\""
   ]
  },
  {
   "cell_type": "code",
   "execution_count": 8,
   "metadata": {},
   "outputs": [],
   "source": [
    "# Template Matching usando TM_CCORR_NORMED\n",
    "edge_detection = \"canny\" #\"canny\"\n",
    "resultImg = multiScaleTemplateMatching(template, coca_logo_1, edge_detection,cv.TM_CCORR_NORMED,10)\n",
    "cv.imshow('resultImg',resultImg)\n",
    "cv.waitKey(0)\n",
    "resultImg = multiScaleTemplateMatching(template, coca_logo_2,edge_detection,cv.TM_CCORR_NORMED, 1)\n",
    "cv.imshow('resultImg',resultImg)\n",
    "cv.waitKey(0)\n",
    "resultImg = multiScaleTemplateMatching(template, coca_cola_logo, edge_detection,cv.TM_CCORR_NORMED,10)\n",
    "cv.imshow('resultImg',resultImg)\n",
    "cv.waitKey(0)\n",
    "resultImg = multiScaleTemplateMatching(template, logo_1, edge_detection,cv.TM_CCORR_NORMED,10)\n",
    "cv.imshow('resultImg',resultImg)\n",
    "cv.waitKey(0)\n",
    "resultImg = multiScaleTemplateMatching(template, coca_retro_1, edge_detection,cv.TM_CCORR_NORMED,12)\n",
    "cv.imshow('resultImg',resultImg)\n",
    "cv.waitKey(0)\n",
    "resultImg = multiScaleTemplateMatching(template, coca_retro_2, edge_detection,cv.TM_CCORR_NORMED,10)\n",
    "cv.imshow('resultImg',resultImg)\n",
    "cv.waitKey(0)\n",
    "resultImg = multiScaleTemplateMatching(template, coca_multi, edge_detection,cv.TM_CCORR_NORMED,39)\n",
    "cv.imshow('resultImg',resultImg)\n",
    "cv.waitKey(0)\n",
    "\n",
    "cv.destroyAllWindows()"
   ]
  },
  {
   "cell_type": "markdown",
   "metadata": {},
   "source": [
    "**Nota: Los valores de n_scales para los casos anteriores se encontraron de manera iterativa para cada uno de los casos**"
   ]
  },
  {
   "cell_type": "markdown",
   "metadata": {},
   "source": [
    "## Parte 2\n",
    "Plantear y validar un algoritmo para múltiples detecciones en la imagen \"coca_multi.png\" con el mismo témplate del ítem 1"
   ]
  },
  {
   "cell_type": "code",
   "execution_count": 9,
   "metadata": {},
   "outputs": [],
   "source": [
    "# Extension de la funcion multiScaleTemplateMatching para multiples detecciones\n",
    "def multiScaleTemplateMatchingMultipleDetection(template,image,edge_detector=\"canny\",matchTempMethod = cv.TM_CCOEFF_NORMED,n_scales = 12,threshold=3):\n",
    "   \n",
    "    # edge_detector puede ser Canny o Laplacian\n",
    "    if edge_detector != \"canny\" and edge_detector != \"laplacian\":\n",
    "        print('El parametro edge detector debe ser \"canny\" o \"laplacian\"')\n",
    "        return\n",
    "    # Paso las imagenes a escala de grises\n",
    "    imgGray = cv.cvtColor(image,cv.COLOR_BGR2GRAY)\n",
    "    tmpGray = cv.cvtColor(template,cv.COLOR_BGR2GRAY)\n",
    "\n",
    "    # Aplico Gaussian Blur para sacar ruido\n",
    "    imgGray = cv.GaussianBlur(imgGray,(5,5),0)\n",
    "    #Obtengo bordes segun el metodo de deteccion\n",
    "    if edge_detector == \"canny\":\n",
    "        imgGray = cv.Canny(imgGray, 100, 120, apertureSize = 3)\n",
    "    elif edge_detector == \"laplacian\":\n",
    "        imgGray = cv.Laplacian(imgGray, cv.CV_8U)\n",
    "    \n",
    "    # Voy a reescalar el template n_scales veces partiendo desde el ancho de la imagen\n",
    "    th,tw = tmpGray.shape\n",
    "    ih,iw = imgGray.shape\n",
    "    scales = np.linspace(0, iw/tw, n_scales+1)[1:]\n",
    "\n",
    "    matching_results = list()\n",
    "    matching_locations = list()\n",
    "\n",
    "    confidence_values = list()\n",
    "        \n",
    "    for scale in scales:\n",
    "\n",
    "        # escalo el template\n",
    "        tmpGray_scaled = cv.resize(tmpGray, None, fx=scale, fy=scale)\n",
    "        # le aplico el Gaussian Blur para sacar ruido\n",
    "        tmpGray_scaled = cv.GaussianBlur(tmpGray_scaled,(3,3),0)\n",
    "        \n",
    "         #Obtengo bordes segun el metodo de deteccion\n",
    "        if edge_detector == \"canny\":\n",
    "            tmpGray_scaled = cv.Canny(tmpGray_scaled, 150, 180, apertureSize = 3)\n",
    "        elif edge_detector == \"laplacian\":\n",
    "            tmpGray_scaled = cv.Laplacian(tmpGray_scaled, cv.CV_8U)\n",
    "        # cv.imshow('tmpGray-scaled',tmpGray_scaled)\n",
    "        # cv.waitKey(0)\n",
    "\n",
    "        tsh,tsw = tmpGray_scaled.shape\n",
    "\n",
    "        # Aplico el template matching \n",
    "        result = cv.matchTemplate(imgGray, tmpGray_scaled, matchTempMethod)\n",
    "        # Normalizo el resultado \n",
    "        result = (result-np.mean(result))/np.std(result)\n",
    "        # Guardo el resultado\n",
    "        matching_results.append(result)\n",
    "        \n",
    "        # Guardo los resultados por encima del threshold\n",
    "        best_results_loc = np.where(result >= threshold)\n",
    "        for location in zip(*best_results_loc[::-1]): \n",
    "            \n",
    "            matching_locations.append([location[0], location[1], location[0]+tsw, location[1]+tsh])\n",
    "            \n",
    "            # Nivel de confianza de la deteccion\n",
    "            confidence_value = result[location[::-1]]\n",
    "            confidence_values.append(confidence_value/np.max(result))\n",
    "\n",
    "\n",
    "\n",
    "    matchImg = image.copy()\n",
    "\n",
    "    # Aplico NMS para eliminar solapamiento de bounding boxies con un threshold the 0.75\n",
    "    indices = cv.dnn.NMSBoxes(bboxes=matching_locations, scores=confidence_values, score_threshold=0.75, nms_threshold=0.75)\n",
    "    for i in indices:\n",
    "        coord = matching_locations[i]\n",
    "        \n",
    "        cv.rectangle(matchImg, (coord[0],coord[1]), (coord[2], coord[3]), (255,0,0), 2)\n",
    "        \n",
    "        # La metrica de confianza es medio chamuyo, esta armada para que funcione nms, pero supongo debe haber alguna metrica mejor \n",
    "        cv.putText(matchImg,f'Score {str(int(confidence_values[i]*100))}%', (coord[0],coord[1]-6), cv.QT_FONT_NORMAL, 0.45, (255,0,0))\n",
    "\n",
    "\n",
    "    return matchImg"
   ]
  },
  {
   "cell_type": "markdown",
   "metadata": {},
   "source": [
    "Probamos la detección del logo con detección de bordes por \"Canny\" y metodo de detección \"Coeficiente de correlación\"\n",
    "\n",
    "Resultado: 18 detecciones sobre 19 totales (94.73%)"
   ]
  },
  {
   "cell_type": "code",
   "execution_count": 10,
   "metadata": {},
   "outputs": [],
   "source": [
    "scale = 10\n",
    "threshold = 4.6\n",
    "resultImg = multiScaleTemplateMatchingMultipleDetection(template, coca_multi,\"canny\",cv.TM_CCOEFF,scale,threshold)\n",
    "cv.imshow('resultImg',resultImg)\n",
    "cv.waitKey(0)\n",
    "cv.destroyAllWindows()"
   ]
  },
  {
   "cell_type": "markdown",
   "metadata": {},
   "source": [
    "Probamos la detección del logo con detección de bordes por \"Laplaciano\" y metodo de detección \"Coeficiente de correlación\"\n",
    "\n",
    "Resultado: 12 detecciones sobre 19 totales (63.15%)"
   ]
  },
  {
   "cell_type": "code",
   "execution_count": 11,
   "metadata": {},
   "outputs": [],
   "source": [
    "scale = 13\n",
    "threshold = 5.4\n",
    "resultImg = multiScaleTemplateMatchingMultipleDetection(template, coca_multi,\"laplacian\",cv.TM_CCOEFF,scale,threshold)\n",
    "cv.imshow('resultImg',resultImg)\n",
    "cv.waitKey(0)\n",
    "cv.destroyAllWindows()"
   ]
  },
  {
   "cell_type": "markdown",
   "metadata": {},
   "source": [
    "Probamos la detección del logo con detección de bordes por \"Canny\" y metodo de detección \"Correlación Cruzada\"\n",
    "\n",
    "Resultado: 18 detecciones sobre 19 totales (94.73%), con un único solapamiento"
   ]
  },
  {
   "cell_type": "code",
   "execution_count": 12,
   "metadata": {},
   "outputs": [],
   "source": [
    "scale = 11\n",
    "threshold = 3.6\n",
    "resultImg = multiScaleTemplateMatchingMultipleDetection(template, coca_multi,\"canny\",cv.TM_CCORR,scale,threshold)\n",
    "cv.imshow('resultImg',resultImg)\n",
    "cv.waitKey(0)\n",
    "cv.destroyAllWindows()"
   ]
  },
  {
   "cell_type": "markdown",
   "metadata": {},
   "source": [
    "Probamos la detección del logo con detección de bordes por \"Laplaciano\" y metodo de detección \"Correlación Cruzada\"\n",
    "\n",
    "Resultado: 19 detecciones sobre 19 totales (100%), con 2 solapamientos "
   ]
  },
  {
   "cell_type": "code",
   "execution_count": 13,
   "metadata": {},
   "outputs": [],
   "source": [
    "scale = 13\n",
    "threshold = 3.9\n",
    "resultImg = multiScaleTemplateMatchingMultipleDetection(template, coca_multi,\"laplacian\",cv.TM_CCORR,scale,threshold)\n",
    "cv.imshow('resultImg',resultImg)\n",
    "cv.waitKey(0)\n",
    "cv.destroyAllWindows()"
   ]
  },
  {
   "cell_type": "markdown",
   "metadata": {},
   "source": [
    "**Nota: La combinación de (scale;threshold) para los casos anteriores se encontraron de manera iterativa para cada uno de los casos**"
   ]
  },
  {
   "cell_type": "markdown",
   "metadata": {},
   "source": [
    "## Parte 3\n",
    "\n",
    "Generalizar el algoritmo del item 2 para todas las imágenes.\n",
    "\n"
   ]
  },
  {
   "cell_type": "markdown",
   "metadata": {},
   "source": [
    "Probamos la detección del logo con detección de bordes por \"Canny\" y metodo de detección \"Correlación Cruzada\" (multiple detección) y \"Correlación Cruzada Normalizada\" (detección singular)\n"
   ]
  },
  {
   "cell_type": "code",
   "execution_count": 14,
   "metadata": {},
   "outputs": [],
   "source": [
    "# Template Matching usando TM_CCORR_NORMED\n",
    "edge_detection = \"canny\" #\"canny\"\n",
    "resultImg = multiScaleTemplateMatchingMultipleDetection(template, coca_logo_1, edge_detection,cv.TM_CCORR_NORMED,10,5)\n",
    "cv.imshow('resultImg',resultImg)\n",
    "cv.waitKey(0)\n",
    "resultImg = multiScaleTemplateMatchingMultipleDetection(template, coca_logo_2,edge_detection,cv.TM_CCORR_NORMED, 1,1.5)\n",
    "cv.imshow('resultImg',resultImg)\n",
    "cv.waitKey(0)\n",
    "resultImg = multiScaleTemplateMatchingMultipleDetection(template, coca_cola_logo, edge_detection,cv.TM_CCORR_NORMED,10,5.5)\n",
    "cv.imshow('resultImg',resultImg)\n",
    "cv.waitKey(0)\n",
    "resultImg = multiScaleTemplateMatchingMultipleDetection(template, logo_1, edge_detection,cv.TM_CCORR_NORMED,10,4.5)\n",
    "cv.imshow('resultImg',resultImg)\n",
    "cv.waitKey(0)\n",
    "resultImg = multiScaleTemplateMatchingMultipleDetection(template, coca_retro_1, edge_detection,cv.TM_CCORR_NORMED,12,4.2)\n",
    "cv.imshow('resultImg',resultImg)\n",
    "cv.waitKey(0)\n",
    "resultImg = multiScaleTemplateMatchingMultipleDetection(template, coca_retro_2, edge_detection,cv.TM_CCORR_NORMED,10,5)\n",
    "cv.imshow('resultImg',resultImg) \n",
    "cv.waitKey(0)\n",
    "resultImg = multiScaleTemplateMatchingMultipleDetection(template, coca_multi, edge_detection,cv.TM_CCORR,11,3.6)\n",
    "cv.imshow('resultImg',resultImg)\n",
    "cv.waitKey(0)\n",
    "\n",
    "cv.destroyAllWindows()"
   ]
  },
  {
   "cell_type": "code",
   "execution_count": 15,
   "metadata": {},
   "outputs": [],
   "source": [
    "# Template Matching usando TM_CCORR_NORMED\n",
    "edge_detection = \"laplacian\" #\"canny\"\n",
    "resultImg = multiScaleTemplateMatchingMultipleDetection(template, coca_logo_1, edge_detection,cv.TM_CCORR_NORMED,10,5)\n",
    "cv.imshow('resultImg',resultImg)\n",
    "cv.waitKey(0)\n",
    "resultImg = multiScaleTemplateMatchingMultipleDetection(template, coca_logo_2,edge_detection,cv.TM_CCORR_NORMED, 1,1.5)\n",
    "cv.imshow('resultImg',resultImg)\n",
    "cv.waitKey(0)\n",
    "resultImg = multiScaleTemplateMatchingMultipleDetection(template, coca_cola_logo, edge_detection,cv.TM_CCORR_NORMED,10,4.2)\n",
    "cv.imshow('resultImg',resultImg)\n",
    "cv.waitKey(0)\n",
    "resultImg = multiScaleTemplateMatchingMultipleDetection(template, logo_1, edge_detection,cv.TM_CCORR_NORMED,10,4.9)\n",
    "cv.imshow('resultImg',resultImg)\n",
    "cv.waitKey(0)\n",
    "resultImg = multiScaleTemplateMatchingMultipleDetection(template, coca_retro_1, edge_detection,cv.TM_CCORR_NORMED,12,4.2)\n",
    "cv.imshow('resultImg',resultImg)\n",
    "cv.waitKey(0)\n",
    "resultImg = multiScaleTemplateMatchingMultipleDetection(template, coca_retro_2, edge_detection,cv.TM_CCORR_NORMED,10,5)\n",
    "cv.imshow('resultImg',resultImg) \n",
    "cv.waitKey(0)\n",
    "resultImg = multiScaleTemplateMatchingMultipleDetection(template, coca_multi, edge_detection,cv.TM_CCORR,13,3.9)\n",
    "cv.imshow('resultImg',resultImg)\n",
    "cv.waitKey(0)\n",
    "\n",
    "cv.destroyAllWindows()"
   ]
  },
  {
   "cell_type": "markdown",
   "metadata": {},
   "source": [
    "Probamos la funcion \"multiScaleTemplateMatchingMultipleDetection\" con dos imagenes descargas de internet"
   ]
  },
  {
   "cell_type": "code",
   "execution_count": 16,
   "metadata": {},
   "outputs": [],
   "source": [
    "coca_test = cv.imread('images/coca_test.png')\n",
    "coca_test_2 = cv.imread('images/coca_test_2.png')\n",
    "coca_test_3 = cv.imread('images/coca_test_3.png')\n",
    "\n",
    "edge_detection = \"laplacian\"\n",
    "resultImg = multiScaleTemplateMatchingMultipleDetection(template, coca_test, edge_detection,cv.TM_CCORR,12,5.5)\n",
    "cv.imshow('resultImg',resultImg)\n",
    "cv.waitKey(0)\n",
    "resultImg = multiScaleTemplateMatchingMultipleDetection(template, coca_test_2, edge_detection,cv.TM_CCORR,4,3.5)\n",
    "cv.imshow('resultImg',resultImg)\n",
    "cv.waitKey(0)\n",
    "resultImg = multiScaleTemplateMatchingMultipleDetection(template, coca_test_3, edge_detection,cv.TM_CCORR,8,5.9)\n",
    "cv.imshow('resultImg',resultImg)\n",
    "cv.waitKey(0)\n",
    "cv.destroyAllWindows()"
   ]
  }
 ],
 "metadata": {
  "kernelspec": {
   "display_name": "Python 3",
   "language": "python",
   "name": "python3"
  },
  "language_info": {
   "codemirror_mode": {
    "name": "ipython",
    "version": 3
   },
   "file_extension": ".py",
   "mimetype": "text/x-python",
   "name": "python",
   "nbconvert_exporter": "python",
   "pygments_lexer": "ipython3",
   "version": "3.11.9"
  }
 },
 "nbformat": 4,
 "nbformat_minor": 2
}
