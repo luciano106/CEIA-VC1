{
 "cells": [
  {
   "cell_type": "markdown",
   "metadata": {},
   "source": [
    "# TP 3 (17Co2024)\n",
    "#### Integrantes\n",
    "- Adassus, Luciano\n",
    "- de Pedro Mermier, Ignacio\n",
    "- Cagua, Jonathan"
   ]
  },
  {
   "cell_type": "markdown",
   "metadata": {},
   "source": [
    "# Enunciado\n",
    "Encontrar el logotipo de la gaseosa dentro de las imágenes provistas en Material_TPs/TP3/images a partir del template Material_TPs/TP3/template"
   ]
  },
  {
   "cell_type": "markdown",
   "metadata": {},
   "source": [
    "# Parte 1: Obtener una detección del logo en cada imagen sin falsos positivos\n",
    "\n",
    "Para realizar la detección de un logo dentro de una imagen, vamos a aplicar el mecanismo denominado \"Template Matching\", el cual se caracteriza por tener una imagen denominado \"pattern\" o \"template\" la cual se encuentra contenida, junto con otros elementos, dentro de la imagen objetivo. El objetivo es ir \"barriendo\" la imagen objetivo con el \"template\" e ir comparando la intersección por medio de una métrica. Luego de barrer la totalidad de la imagen objetivo, debemos obtener la locación que maximiza (o minimiza) dicha métrica, ya que esa será la zona donde indicaremos que ocurre la detección.\n",
    "\n",
    "Por naturaleza, este procedimiento se caracteriza por requerir un procedimiento adicional para que sea invariante a escala y, para este caso en particualar, como tenemos distintas imagenes con distintos tamaños y factores de forma, será necesaria realizar un escalamiento inteligente del \"template\" para poder realizar la detección sin falsos positivos.\n",
    "\n",
    "Otra caracteristica de este procedimiento es la necesidad de tener el \"template\" con la misma orientación en la imagen objetivo, es decir, no es invariante a la rotación. Sin embargo, todas las imágenes suminstradas poseen el logo de Coca-Coca (template) con la misma orientación (incluída el template), lo que nos permitirá realizar la detección de manera más sencilla.\n",
    "\n",
    "Para generar la condición de invarianza a la escala, vamos a realizar el siguiente procedimiento:\n",
    "1. Tomar el ancho total de la imagen objetivo como patrón y dividirlo \"n\" cantidad de veces\n",
    "2. Iterar sobre cada sub-escala obtenida en el punto anterior\n",
    "3. Escalar el template en función de cada sub-escala\n",
    "4. Realizar el procedimiento de template matching propiamente dicho y obtener una metrica\n",
    "5. De todas las detecciones obtenidas, nos vamos a quedar con aquella que maximice la métrica determinada (Coeficiente de correlación normalizado o Correlación cruzada normalizada)\n",
    "6. Ubicar un bounding box en la posición obtenida en el punto anterior con el factor de forma de la sub-escala que obtuvo dicha métrica\n"
   ]
  },
  {
   "cell_type": "code",
   "execution_count": 1,
   "metadata": {},
   "outputs": [],
   "source": [
    "%matplotlib qt\n",
    "import numpy as np\n",
    "import cv2 as cv\n",
    "import matplotlib.pyplot as plt"
   ]
  },
  {
   "cell_type": "markdown",
   "metadata": {},
   "source": [
    "Cargamos el logo de Coca-Cola (template) y las imagenes objetivo"
   ]
  },
  {
   "cell_type": "code",
   "execution_count": 2,
   "metadata": {},
   "outputs": [],
   "source": [
    "# Cargo el template\n",
    "template = cv.imread('template/pattern.png')\n",
    "\n",
    "# Cargo imagenes objetivo\n",
    "coca_logo_1 = cv.imread('images/coca_logo_1.png')\n",
    "coca_logo_2 = cv.imread('images/coca_logo_2.png')\n",
    "coca_cola_logo = cv.imread('images/COCA-COLA-LOGO.jpg')\n",
    "logo_1 = cv.imread('images/logo_1.png')\n",
    "coca_multi = cv.imread('images/coca_multi.png')\n",
    "coca_retro_1 = cv.imread('images/coca_retro_1.png')\n",
    "coca_retro_2 = cv.imread('images/coca_retro_2.png')\n",
    " "
   ]
  },
  {
   "cell_type": "code",
   "execution_count": 3,
   "metadata": {},
   "outputs": [
    {
     "data": {
      "text/plain": [
       "numpy.ndarray"
      ]
     },
     "execution_count": 3,
     "metadata": {},
     "output_type": "execute_result"
    }
   ],
   "source": [
    "type(template)"
   ]
  },
  {
   "cell_type": "markdown",
   "metadata": {},
   "source": [
    "Analizando el tamaño de cada imagen, vemos que las mismas varían de tamaño total y factor de forma entre sí y con respecto al template."
   ]
  },
  {
   "cell_type": "code",
   "execution_count": 4,
   "metadata": {},
   "outputs": [
    {
     "name": "stdout",
     "output_type": "stream",
     "text": [
      "Tamaño del template\n",
      "\n",
      "template (175, 400, 3)\n",
      "---------------------------\n",
      "Tamaño de las imagenes objetivo:\n",
      "\n",
      "coca_logo_1 (500, 207, 3)\n",
      "coca_logo_2 (363, 233, 3)\n",
      "coca_cola_logo (1389, 1389, 3)\n",
      "logo_1 (450, 687, 3)\n",
      "coca_multi (598, 799, 3)\n",
      "coca_retro_1 (493, 715, 3)\n",
      "coca_retro_2 (429, 715, 3)\n"
     ]
    }
   ],
   "source": [
    "# Analizo los tamaños de las imagenes\n",
    "print('Tamaño del template\\n')\n",
    "print('template',template.shape)\n",
    "print('---------------------------')\n",
    "print('Tamaño de las imagenes objetivo:\\n')\n",
    "print('coca_logo_1',coca_logo_1.shape)\n",
    "print('coca_logo_2',coca_logo_2.shape)\n",
    "print('coca_cola_logo',coca_cola_logo.shape)\n",
    "print('logo_1',logo_1.shape)\n",
    "print('coca_multi',coca_multi.shape)\n",
    "print('coca_retro_1',coca_retro_1.shape)\n",
    "print('coca_retro_2',coca_retro_2.shape)"
   ]
  },
  {
   "cell_type": "markdown",
   "metadata": {},
   "source": [
    "Determinamos una función capaz de realizar un template matching sin depender de la escala de la imagen objetivo ni del template. Con el objetivo de optimizar la detección se realiza un pre-procesamiento de ambas imagenes:\n",
    "- Pasar la imagen a escala de grises\n",
    "- Aplicar un desenfoque gaussiano para eliminar el ruido\n",
    "- Aplicar un mecanismo de detección de bordes para independizarse del fondo de las imagenes\n"
   ]
  },
  {
   "cell_type": "code",
   "execution_count": 5,
   "metadata": {},
   "outputs": [],
   "source": [
    "# Funcion para detectar template matching con multiples escalas\n",
    "\n",
    "def multiScaleTemplateMatching(template,image,edge_detector=\"canny\",matchTempMethod = cv.TM_CCOEFF_NORMED,n_scales = 12):\n",
    "    \"\"\"\n",
    "    Realiza el prodecimiento de Template Matching entre \"template\" e \"image\".\n",
    "    \n",
    "    Parámetros:\n",
    "    - template: numpy.ndarray, imagen template/pattern en formato BGR\n",
    "    - image: numpy.ndarray, imgagen objetivo en donde realizar la detección en formato BGR\n",
    "    - edge_detector: str, mecanismo para realizar la detección de bordes (\"canny\" o \"laplacian\")\n",
    "    - matchTempMethod: int, parámetro que especifica el metodo de comparación dentro de la función matchTemplate (ver https://docs.opencv.org/4.x/df/dfb/group__imgproc__object.html#ga3a7850640f1fe1f58fe91a2d7583695d)\n",
    "    - n_scales: int, cantidad de sub-escalas en la que se dividirá la imagen objetivo para realizar la detección\n",
    "    \n",
    "    Retorna:\n",
    "    - matchImg: numpy.ndarray, imagen objetivo + bounding box donde se realizó la detección\n",
    "    - matchValue: float, resultado máximo (o minimo) de la función cv.matchTemplate que indica la detección\n",
    "    \"\"\"\n",
    "        \n",
    "\n",
    "    # Verifico que el mecanismo de detección de bordes sea Canny o Laplacian\n",
    "    if edge_detector != \"canny\" and edge_detector != \"laplacian\":\n",
    "        print('El parametro edge detector debe ser \"canny\" o \"laplacian\"')\n",
    "        return\n",
    "    \n",
    "    # Paso las imagenes a escala de grises\n",
    "    imgGray = cv.cvtColor(image,cv.COLOR_BGR2GRAY)\n",
    "    tmpGray = cv.cvtColor(template,cv.COLOR_BGR2GRAY)\n",
    "\n",
    "    # Aplico Gaussian Blur sobre la imagen objetivo para sacar ruido\n",
    "    imgGray = cv.GaussianBlur(imgGray,(5,5),0)\n",
    "\n",
    "    # Aplica el filtro de detección de bordes\n",
    "    if edge_detector == \"canny\":\n",
    "        imgGray = cv.Canny(imgGray, 100, 120, apertureSize = 3)\n",
    "    elif edge_detector == \"laplacian\":\n",
    "        imgGray = cv.Laplacian(imgGray, cv.CV_8U)\n",
    "    \n",
    "    # Reescalo el template n_scales veces partiendo desde el ancho de la imagen\n",
    "    th,tw = tmpGray.shape\n",
    "    ih,iw = imgGray.shape\n",
    "    scales = np.linspace(0, iw/tw, n_scales+1)[1:]\n",
    "\n",
    "    # Listas para guardar resultados\n",
    "    matching_results = list()\n",
    "    minmax_results = list()\n",
    "    template_shapes = list()\n",
    "    \n",
    "    for scale in scales:\n",
    "\n",
    "        # Escalo el template\n",
    "        tmpGray_scaled = cv.resize(tmpGray, None, fx=scale, fy=scale)\n",
    "\n",
    "        # Aplico el Gaussian Blur sobre el template para sacar ruido\n",
    "        tmpGray_scaled = cv.GaussianBlur(tmpGray_scaled,(3,3),0)\n",
    "        \n",
    "        # Aplica el filtro de detección de bordes\n",
    "        if edge_detector == \"canny\":\n",
    "            tmpGray_scaled = cv.Canny(tmpGray_scaled, 150, 180, apertureSize = 3)\n",
    "        elif edge_detector == \"laplacian\":\n",
    "            tmpGray_scaled = cv.Laplacian(tmpGray_scaled, cv.CV_8U)\n",
    "        \n",
    "        # Obtengo las dimensiones del template escalado\n",
    "        tsh,tsw = tmpGray_scaled.shape\n",
    "        \n",
    "        # Aplico el template matching \n",
    "        result = cv.matchTemplate(imgGray, tmpGray_scaled, matchTempMethod)\n",
    "        \n",
    "        # Normalizo el resultado \n",
    "        result = (result-np.mean(result))/np.std(result)\n",
    "        \n",
    "        # Guardo el resultado\n",
    "        matching_results.append(result)\n",
    "\n",
    "        # Aplico la función minMaxLoc para luego generar el bounding box \n",
    "        min_val, max_val, min_loc, max_loc = cv.minMaxLoc(result)\n",
    "        \n",
    "        #Guardo minMaxLocResult\n",
    "        minmax_results.append([min_val, max_val, min_loc, max_loc])\n",
    "\n",
    "        # Guardo las dimensiones del template para el bounding box\n",
    "        template_shapes.append([tsh,tsw])\n",
    "\n",
    "    # Obtengo el mejor resultado de todos matching para todos los casos y obtengo su ubicacion\n",
    "\n",
    "    # En caso de utilizar Coeficiente de correlación o correlación cruzada (normalizada o no) busco el máximo\n",
    "    if matchTempMethod == cv.TM_CCOEFF_NORMED or matchTempMethod == cv.TM_CCORR_NORMED or matchTempMethod == cv.TM_CCORR or matchTempMethod == cv.TM_CCOEFF:\n",
    "        \n",
    "        # Busco el maximo de maximos\n",
    "        max_column = [sublist[1] for sublist in minmax_results]\n",
    "        max_value = max(max_column)\n",
    "        max_index = max_column.index(max_value)\n",
    "\n",
    "        match_value = max_value\n",
    "        match_index = max_index\n",
    "        \n",
    "       \n",
    "    # En caso de utilizar suma de diferencias al cuadrado busco el minimo\n",
    "    elif matchTempMethod == cv.TM_SQDIFF_NORMED:\n",
    "        \n",
    "        # Busco el minimo de minimos\n",
    "        min_column = [sublist[0] for sublist in minmax_results]\n",
    "        min_value = max(min_column)\n",
    "        min_index = min_column.index(min_value)\n",
    "\n",
    "        match_value = min_value\n",
    "        match_index = min_index\n",
    "        \n",
    "\n",
    "    else:\n",
    "\n",
    "        print('matchTempMethod error')\n",
    "        return\n",
    "    \n",
    "    # Creo la imagen de salida basad en la imagen objetivo + Bounding box + Score\n",
    "    matchImg = image.copy()\n",
    "    topLeft = minmax_results[match_index][3]\n",
    "    bottomRight = (minmax_results[match_index][3][0]+template_shapes[match_index][1],minmax_results[match_index][3][1]+template_shapes[match_index][0])\n",
    " \n",
    "    cv.rectangle(matchImg, topLeft, bottomRight, (255,0,0), 2)\n",
    "    #cv.putText(matchImg,f'Score {str(int(confidence_value*100))}%', (topLeft[0],topLeft[1]-6), cv.QT_FONT_NORMAL, 0.45, (255,0,0))  \n",
    "  \n",
    "    return matchImg,match_value\n"
   ]
  },
  {
   "cell_type": "markdown",
   "metadata": {},
   "source": [
    "Probamos la función previamente presentada con distintas imagenes con el detector de bordes \"Laplaciano\" y metodo de detección \"Coeficiente de correlacion normalizado\""
   ]
  },
  {
   "cell_type": "code",
   "execution_count": 6,
   "metadata": {},
   "outputs": [
    {
     "name": "stdout",
     "output_type": "stream",
     "text": [
      "BORDER_FILTER:\t\t LAPLACIAN\n",
      "MATCH PARAM:\t\t TM_CCOEFF_NORMED\n",
      "coca_logo_1 metric:\t6.93506383895874\n",
      "coca_logo_2 metric:\t2.856226682662964\n",
      "coca_cola_logo metric:\t5.459420680999756\n",
      "logo_1 metric:\t\t5.523893356323242\n",
      "coca_retro_1 metric:\t5.298094272613525\n",
      "coca_retro_2 metric:\t8.241572380065918\n",
      "coca_multi metric:\t4.4918718338012695\n"
     ]
    }
   ],
   "source": [
    "# Template Matching usando TM_CCOEFF_NORMED\n",
    "filter_border = \"laplacian\" #\"canny\"\n",
    "print('BORDER_FILTER:\\t\\t LAPLACIAN')\n",
    "print('MATCH PARAM:\\t\\t TM_CCOEFF_NORMED')\n",
    "resultImg,matchValue = multiScaleTemplateMatching(template, coca_logo_1, filter_border,cv.TM_CCOEFF_NORMED,10)\n",
    "print('coca_logo_1 metric:\\t'+str(matchValue))\n",
    "cv.imshow('resultImg',resultImg)\n",
    "cv.waitKey(0)\n",
    "resultImg,matchValue = multiScaleTemplateMatching(template, coca_logo_2,filter_border,cv.TM_CCOEFF_NORMED, 1)\n",
    "print('coca_logo_2 metric:\\t'+str(matchValue))\n",
    "cv.imshow('resultImg',resultImg)\n",
    "cv.waitKey(0)\n",
    "resultImg,matchValue = multiScaleTemplateMatching(template, coca_cola_logo, filter_border,cv.TM_CCOEFF_NORMED,10)\n",
    "print('coca_cola_logo metric:\\t'+str(matchValue))\n",
    "cv.imshow('resultImg',resultImg)\n",
    "cv.waitKey(0)\n",
    "resultImg,matchValue = multiScaleTemplateMatching(template, logo_1, filter_border,cv.TM_CCOEFF_NORMED,10)\n",
    "print('logo_1 metric:\\t\\t'+str(matchValue))\n",
    "cv.imshow('resultImg',resultImg)\n",
    "cv.waitKey(0)\n",
    "resultImg,matchValue = multiScaleTemplateMatching(template, coca_retro_1, filter_border,cv.TM_CCOEFF_NORMED,10)\n",
    "print('coca_retro_1 metric:\\t'+str(matchValue))\n",
    "cv.imshow('resultImg',resultImg)\n",
    "cv.waitKey(0)\n",
    "resultImg,matchValue = multiScaleTemplateMatching(template, coca_retro_2, filter_border,cv.TM_CCOEFF_NORMED,10)\n",
    "print('coca_retro_2 metric:\\t'+str(matchValue))\n",
    "cv.imshow('resultImg',resultImg)\n",
    "cv.waitKey(0)\n",
    "resultImg,matchValue = multiScaleTemplateMatching(template, coca_multi, filter_border,cv.TM_CCOEFF_NORMED,39)\n",
    "print('coca_multi metric:\\t'+str(matchValue))\n",
    "cv.imshow('resultImg',resultImg)\n",
    "cv.waitKey(0)\n",
    "\n",
    "cv.destroyAllWindows()\n"
   ]
  },
  {
   "cell_type": "markdown",
   "metadata": {},
   "source": [
    "Probamos las distintas imagenes con el detector de bordes \"Canny\" y metodo de detección \"Coeficiente de correlacion normalizado\""
   ]
  },
  {
   "cell_type": "code",
   "execution_count": 7,
   "metadata": {},
   "outputs": [
    {
     "name": "stdout",
     "output_type": "stream",
     "text": [
      "BORDER_FILTER:\t\t CANNY\n",
      "MATCH PARAM:\t\t TM_CCOEFF_NORMED\n",
      "coca_logo_1 metric:\t9.57135009765625\n",
      "coca_logo_2 metric:\t3.1164133548736572\n",
      "coca_cola_logo metric:\t7.664137363433838\n",
      "logo_1 metric:\t\t6.827859878540039\n",
      "coca_retro_1 metric:\t4.688180923461914\n",
      "coca_retro_2 metric:\t11.194732666015625\n",
      "coca_multi metric:\t6.596279144287109\n"
     ]
    }
   ],
   "source": [
    "# Template Matching usando CANNY + TM_CCOEFF_NORMED\n",
    "filter_border = \"canny\" #\"canny\"\n",
    "print('BORDER_FILTER:\\t\\t CANNY')\n",
    "print('MATCH PARAM:\\t\\t TM_CCOEFF_NORMED')\n",
    "resultImg,matchValue = multiScaleTemplateMatching(template, coca_logo_1, filter_border,cv.TM_CCOEFF_NORMED,10)\n",
    "print('coca_logo_1 metric:\\t'+str(matchValue))\n",
    "cv.imshow('resultImg',resultImg)\n",
    "cv.waitKey(0)\n",
    "resultImg,matchValue = multiScaleTemplateMatching(template, coca_logo_2,filter_border,cv.TM_CCOEFF_NORMED, 1)\n",
    "print('coca_logo_2 metric:\\t'+str(matchValue))\n",
    "cv.imshow('resultImg',resultImg)\n",
    "cv.waitKey(0)\n",
    "resultImg,matchValue = multiScaleTemplateMatching(template, coca_cola_logo, filter_border,cv.TM_CCOEFF_NORMED,10)\n",
    "print('coca_cola_logo metric:\\t'+str(matchValue))\n",
    "cv.imshow('resultImg',resultImg)\n",
    "cv.waitKey(0)\n",
    "resultImg,matchValue = multiScaleTemplateMatching(template, logo_1, filter_border,cv.TM_CCOEFF_NORMED,10)\n",
    "print('logo_1 metric:\\t\\t'+str(matchValue))\n",
    "cv.imshow('resultImg',resultImg)\n",
    "cv.waitKey(0)\n",
    "resultImg,matchValue = multiScaleTemplateMatching(template, coca_retro_1, filter_border,cv.TM_CCOEFF_NORMED,10)\n",
    "print('coca_retro_1 metric:\\t'+str(matchValue))\n",
    "cv.imshow('resultImg',resultImg)\n",
    "cv.waitKey(0)\n",
    "resultImg,matchValue = multiScaleTemplateMatching(template, coca_retro_2, filter_border,cv.TM_CCOEFF_NORMED,10)\n",
    "print('coca_retro_2 metric:\\t'+str(matchValue))\n",
    "cv.imshow('resultImg',resultImg)\n",
    "cv.waitKey(0)\n",
    "resultImg,matchValue = multiScaleTemplateMatching(template, coca_multi, filter_border,cv.TM_CCOEFF_NORMED,39)\n",
    "print('coca_multi metric:\\t'+str(matchValue))\n",
    "cv.imshow('resultImg',resultImg)\n",
    "cv.waitKey(0)\n",
    "\n",
    "cv.destroyAllWindows()\n",
    "\n"
   ]
  },
  {
   "cell_type": "markdown",
   "metadata": {},
   "source": [
    "Probamos las distintas imagenes con el detector de bordes \"Laplaciano\" y metodo de detección \"Correlacion Cruzada normalizada\""
   ]
  },
  {
   "cell_type": "code",
   "execution_count": 8,
   "metadata": {},
   "outputs": [
    {
     "name": "stdout",
     "output_type": "stream",
     "text": [
      "BORDER_FILTER:\t\t LAPLACIAN\n",
      "MATCH PARAM:\t\t TM_CCORR_NORMED\n",
      "coca_logo_1 metric:\t5.737558364868164\n",
      "coca_logo_2 metric:\t2.7343356609344482\n",
      "coca_cola_logo metric:\t4.2394118309021\n",
      "logo_1 metric:\t\t4.945406436920166\n",
      "coca_retro_1 metric:\t5.6729655265808105\n",
      "coca_retro_2 metric:\t6.234921455383301\n",
      "coca_multi metric:\t4.145476341247559\n"
     ]
    }
   ],
   "source": [
    "# Template Matching usando LAPLACIAN + TM_CCORR_NORMED\n",
    "filter_border = \"laplacian\"\n",
    "print('BORDER_FILTER:\\t\\t LAPLACIAN')\n",
    "print('MATCH PARAM:\\t\\t TM_CCORR_NORMED')\n",
    "resultImg,matchValue = multiScaleTemplateMatching(template, coca_logo_1, filter_border,cv.TM_CCORR_NORMED,10)\n",
    "print('coca_logo_1 metric:\\t'+str(matchValue))\n",
    "cv.imshow('resultImg',resultImg)\n",
    "cv.waitKey(0)\n",
    "resultImg,matchValue = multiScaleTemplateMatching(template, coca_logo_2,filter_border,cv.TM_CCORR_NORMED, 1)\n",
    "print('coca_logo_2 metric:\\t'+str(matchValue))\n",
    "cv.imshow('resultImg',resultImg)\n",
    "cv.waitKey(0)\n",
    "resultImg,matchValue = multiScaleTemplateMatching(template, coca_cola_logo, filter_border,cv.TM_CCORR_NORMED,10)\n",
    "print('coca_cola_logo metric:\\t'+str(matchValue))\n",
    "cv.imshow('resultImg',resultImg)\n",
    "cv.waitKey(0)\n",
    "resultImg,matchValue = multiScaleTemplateMatching(template, logo_1, filter_border,cv.TM_CCORR_NORMED,10)\n",
    "print('logo_1 metric:\\t\\t'+str(matchValue))\n",
    "cv.imshow('resultImg',resultImg)\n",
    "cv.waitKey(0)\n",
    "resultImg,matchValue = multiScaleTemplateMatching(template, coca_retro_1, filter_border,cv.TM_CCORR_NORMED,10)\n",
    "print('coca_retro_1 metric:\\t'+str(matchValue))\n",
    "cv.imshow('resultImg',resultImg)\n",
    "cv.waitKey(0)\n",
    "resultImg,matchValue = multiScaleTemplateMatching(template, coca_retro_2, filter_border,cv.TM_CCORR_NORMED,10)\n",
    "print('coca_retro_2 metric:\\t'+str(matchValue))\n",
    "cv.imshow('resultImg',resultImg)\n",
    "cv.waitKey(0)\n",
    "resultImg,matchValue = multiScaleTemplateMatching(template, coca_multi, filter_border,cv.TM_CCORR_NORMED,39)\n",
    "print('coca_multi metric:\\t'+str(matchValue))\n",
    "cv.imshow('resultImg',resultImg)\n",
    "cv.waitKey(0)\n",
    "\n",
    "cv.destroyAllWindows()\n"
   ]
  },
  {
   "cell_type": "markdown",
   "metadata": {},
   "source": [
    "Probamos las distintas imagenes con el detector de bordes \"Canny\" y metodo de detección \"Correlacion Cruzada normalizada\""
   ]
  },
  {
   "cell_type": "code",
   "execution_count": 9,
   "metadata": {},
   "outputs": [
    {
     "name": "stdout",
     "output_type": "stream",
     "text": [
      "BORDER_FILTER:\t\t CANNY\n",
      "MATCH PARAM:\t\t TM_CCORR_NORMED\n",
      "coca_logo_1 metric:\t6.639416217803955\n",
      "coca_logo_2 metric:\t2.915717124938965\n",
      "coca_cola_logo metric:\t6.31380033493042\n",
      "logo_1 metric:\t\t4.614475727081299\n",
      "coca_retro_1 metric:\t4.398003101348877\n",
      "coca_retro_2 metric:\t7.918277263641357\n",
      "coca_multi metric:\t4.641242027282715\n"
     ]
    }
   ],
   "source": [
    "# Template Matching usando LAPLACIAN + TM_CCORR_NORMED\n",
    "filter_border = \"canny\"\n",
    "print('BORDER_FILTER:\\t\\t CANNY')\n",
    "print('MATCH PARAM:\\t\\t TM_CCORR_NORMED')\n",
    "resultImg,matchValue = multiScaleTemplateMatching(template, coca_logo_1, filter_border,cv.TM_CCORR_NORMED,10)\n",
    "print('coca_logo_1 metric:\\t'+str(matchValue))\n",
    "cv.imshow('resultImg',resultImg)\n",
    "cv.waitKey(0)\n",
    "resultImg,matchValue = multiScaleTemplateMatching(template, coca_logo_2,filter_border,cv.TM_CCORR_NORMED, 1)\n",
    "print('coca_logo_2 metric:\\t'+str(matchValue))\n",
    "cv.imshow('resultImg',resultImg)\n",
    "cv.waitKey(0)\n",
    "resultImg,matchValue = multiScaleTemplateMatching(template, coca_cola_logo, filter_border,cv.TM_CCORR_NORMED,10)\n",
    "print('coca_cola_logo metric:\\t'+str(matchValue))\n",
    "cv.imshow('resultImg',resultImg)\n",
    "cv.waitKey(0)\n",
    "resultImg,matchValue = multiScaleTemplateMatching(template, logo_1, filter_border,cv.TM_CCORR_NORMED,10)\n",
    "print('logo_1 metric:\\t\\t'+str(matchValue))\n",
    "cv.imshow('resultImg',resultImg)\n",
    "cv.waitKey(0)\n",
    "resultImg,matchValue = multiScaleTemplateMatching(template, coca_retro_1, filter_border,cv.TM_CCORR_NORMED,12)\n",
    "print('coca_retro_1 metric:\\t'+str(matchValue))\n",
    "cv.imshow('resultImg',resultImg)\n",
    "cv.waitKey(0)\n",
    "resultImg,matchValue = multiScaleTemplateMatching(template, coca_retro_2, filter_border,cv.TM_CCORR_NORMED,10)\n",
    "print('coca_retro_2 metric:\\t'+str(matchValue))\n",
    "cv.imshow('resultImg',resultImg)\n",
    "cv.waitKey(0)\n",
    "resultImg,matchValue = multiScaleTemplateMatching(template, coca_multi, filter_border,cv.TM_CCORR_NORMED,39)\n",
    "print('coca_multi metric:\\t'+str(matchValue))\n",
    "cv.imshow('resultImg',resultImg)\n",
    "cv.waitKey(0)\n",
    "\n",
    "cv.destroyAllWindows()\n"
   ]
  },
  {
   "cell_type": "markdown",
   "metadata": {},
   "source": [
    "## Analisis de resultados\n",
    "\n",
    "\n",
    "| Imagen            | CCOEFF + LAPLACIAN | CCOEFF + CANNY | CCORR + LAPLACIAN | CCORR + CANNY |\n",
    "|-------------------|--------------------|----------------|-------------------|---------------|\n",
    "| coca_logo_1       | 6.93               | 9.57           | 5.73              | 6.63          |\n",
    "| coca_logo_2       | 2.85               | 3.11           | 2.73              | 2.91          |\n",
    "| coca_cola_logo    | 5.45               | 7.66           | 4.23              | 6.31          |\n",
    "| logo_1            | 5.52               | 6.82           | 4.95              | 4.61          |\n",
    "| coca_retro_1      | 5.29               | 4.68           | 5.67              | 3.04          |\n",
    "| coca_retro_2      | 8.24               | 11.19          | 6.23              | 7.91          |\n",
    "| coca_multi        | 4.49               | 6.59           | 4.14              | 4.64          |\n",
    "\n",
    "Al anlizar los resultados de la tabla podemos observar que para la gran mayoría de los casos, la mejor combinación de métrica y filtro de detección de bordes es Coeficiente de Correlación normalizada y Canny, respectivamente.\n",
    "\n",
    "Es necesario aclarar que para lograr el objetivo de evitar falsos positivos, fue necesario encontrar mediante prueba y error los valores de n_scales para cada imagen. En su mayoría, generar 10 sub-escalas fuen suficiente para realizar la detección correctamente. Sin embargo, para la imagen coca_logo_2, la cual presenta el logo levemente modificado en sus bordes izquierdo y derecho (por la curvatura de la lata), fue necesario utilizar un valor de \"n_scales\" de 1 (sin escalar) para obtener el resultado correcto.\n",
    "\n",
    "Para el caso de la imagen \"coca_multi\", la cual presenta multiples logos en la imagen, se pudo obervar que al variar el valor de \"n_scales\", variaba la locación del máximo (y por ende bounding box) donde realizaba la detección.\n",
    "\n",
    "### Conclusión \n",
    "\n",
    "Como conclusión podemos establecer que el mejor mecanismo para la detección de logos sin falsos positivos es la combinación de Correlación cruzada normalizada como métrica de detección y Canny como filtro de extracción de bordes. A su vez, se oberva que el mecanismo de \"Template Matching\" es muy suceptible a modificaciones del logo en la imagen objetivo, aunque estas sean pequeñas."
   ]
  },
  {
   "cell_type": "markdown",
   "metadata": {},
   "source": [
    "**Nota: Los valores de n_scales para los casos anteriores se encontraron de manera iterativa para cada uno de los casos**"
   ]
  },
  {
   "cell_type": "markdown",
   "metadata": {},
   "source": [
    "# Parte 2: Plantear y validar un algoritmo para múltiples detecciones en la imagen \"coca_multi.png\" con el mismo témplate del ítem 1\n",
    "\n",
    "Para este caso, vamos a uilizar como base la función implementada en el punto 1 y vamos a realizar una serie de modificaciones para permitir la detección múltiple. Las mismas son:\n",
    "- Dentro del bucle de las sub-escalas del pattern vamos a guardar unicamente los resultados cuya métrica que se encuentran por encima (o debajo para el caso de suma de diferencias al cuadrado) de un umbral establecido por el usuario.\n",
    "- Si la métrica es superior al umbral, vamos a determinar el nivel de confianza a partir del valor maximo establecido hasta ese momento\n",
    "- Como voy a tener múltiples detecciones, en caso que exista solapamiento de bounding boxes, vamos a determinar el mejor de todos mediante la técnica \"Non Max Suppression\" (NMS) "
   ]
  },
  {
   "cell_type": "code",
   "execution_count": 10,
   "metadata": {},
   "outputs": [],
   "source": [
    "# Extension de la funcion multiScaleTemplateMatching para multiples detecciones\n",
    "def multiScaleTemplateMatchingMultipleDetection(template,image,edge_detector=\"canny\",matchTempMethod = cv.TM_CCOEFF_NORMED,n_scales = 12,threshold=3):\n",
    "    \"\"\"\n",
    "    Realiza el prodecimiento de Template Matching múltiple entre \"template\" e \"image\".\n",
    "    \n",
    "    Parámetros:\n",
    "    - template: numpy.ndarray, imagen template/pattern en formato BGR\n",
    "    - image: numpy.ndarray, imgagen objetivo en donde realizar la detección en formato BGR\n",
    "    - edge_detector: str, mecanismo para realizar la detección de bordes (\"canny\" o \"laplacian\")\n",
    "    - matchTempMethod: int, parámetro que especifica el metodo de comparación dentro de la función matchTemplate (ver https://docs.opencv.org/4.x/df/dfb/group__imgproc__object.html#ga3a7850640f1fe1f58fe91a2d7583695d)\n",
    "    - n_scales: int, cantidad de sub-escalas en la que se dividirá la imagen objetivo para realizar la detección\n",
    "    - threshold: int o float, umbral que determina si la métrica obtenida corresponde con una detección o no.\n",
    "    \n",
    "    Retorna:\n",
    "    - matchImg: numpy.ndarray, imagen objetivo + bounding box donde se realizó la detección\n",
    "    \"\"\"\n",
    "    \n",
    "    # Verifico que el mecanismo de detección de bordes sea Canny o Laplacian\n",
    "    if edge_detector != \"canny\" and edge_detector != \"laplacian\":\n",
    "        print('El parametro edge detector debe ser \"canny\" o \"laplacian\"')\n",
    "        return\n",
    "    \n",
    "    # Paso las imagenes a escala de grises\n",
    "    imgGray = cv.cvtColor(image,cv.COLOR_BGR2GRAY)\n",
    "    tmpGray = cv.cvtColor(template,cv.COLOR_BGR2GRAY)\n",
    "\n",
    "    # Aplico Gaussian Blur sobre la imagen objetivo para sacar ruido\n",
    "    imgGray = cv.GaussianBlur(imgGray,(5,5),0)\n",
    "    \n",
    "    # Aplica el filtro de detección de bordes\n",
    "    if edge_detector == \"canny\":\n",
    "        imgGray = cv.Canny(imgGray, 100, 120, apertureSize = 3)\n",
    "    elif edge_detector == \"laplacian\":\n",
    "        imgGray = cv.Laplacian(imgGray, cv.CV_8U)\n",
    "    \n",
    "    # Obtengo dimensiones de la imagen objetivo y del template para obtener las sub-escalas\n",
    "    th,tw = tmpGray.shape\n",
    "    ih,iw = imgGray.shape\n",
    "    \n",
    "    # Reescalo el template n_scales veces partiendo desde el ancho de la imagen\n",
    "    scales = np.linspace(0, iw/tw, n_scales+1)[1:]\n",
    "\n",
    "    matching_results = list()\n",
    "    matching_locations = list()\n",
    "\n",
    "    confidence_values = list()\n",
    "        \n",
    "    for scale in scales:\n",
    "\n",
    "        # Escalo el template\n",
    "        tmpGray_scaled = cv.resize(tmpGray, None, fx=scale, fy=scale)\n",
    "        \n",
    "        # Aplico Gaussian Blur sobre la imagen objetivo para sacar ruido\n",
    "        tmpGray_scaled = cv.GaussianBlur(tmpGray_scaled,(3,3),0)\n",
    "        \n",
    "        # Aplica el filtro de detección de bordes\n",
    "        if edge_detector == \"canny\":\n",
    "            tmpGray_scaled = cv.Canny(tmpGray_scaled, 150, 180, apertureSize = 3)\n",
    "        elif edge_detector == \"laplacian\":\n",
    "            tmpGray_scaled = cv.Laplacian(tmpGray_scaled, cv.CV_8U)\n",
    "        \n",
    "        # Obtengo las dimensiones del template escalado para el bounding box\n",
    "        tsh,tsw = tmpGray_scaled.shape\n",
    "\n",
    "        # Aplico el template matching \n",
    "        result = cv.matchTemplate(imgGray, tmpGray_scaled, matchTempMethod)\n",
    "        \n",
    "        # Normalizo el resultado \n",
    "        result = (result-np.mean(result))/np.std(result)\n",
    "        \n",
    "        # Guardo el resultado\n",
    "        matching_results.append(result)\n",
    "        \n",
    "        # Guardo los resultados por encima del threshold\n",
    "        best_results_loc = np.where(result >= threshold)\n",
    "        for location in zip(*best_results_loc[::-1]): \n",
    "            \n",
    "            matching_locations.append([location[0], location[1], location[0]+tsw, location[1]+tsh])\n",
    "            \n",
    "            # Establezco el nivel de confianza de la deteccion\n",
    "            confidence_value = result[location[::-1]]\n",
    "            confidence_values.append(confidence_value/np.max(result))\n",
    "\n",
    "\n",
    "\n",
    "    matchImg = image.copy()\n",
    "\n",
    "    # Aplico NMS para eliminar solapamiento de bounding boxies con un threshold the 0.75\n",
    "    indices = cv.dnn.NMSBoxes(bboxes=matching_locations, scores=confidence_values, score_threshold=0.75, nms_threshold=0.75)\n",
    "    for i in indices:\n",
    "        coord = matching_locations[i]\n",
    "        \n",
    "        cv.rectangle(matchImg, (coord[0],coord[1]), (coord[2], coord[3]), (255,0,0), 2)\n",
    "        cv.putText(matchImg,f'Score {str(int(confidence_values[i]*100))}%', (coord[0],coord[1]-6), cv.QT_FONT_NORMAL, 0.45, (255,0,0))\n",
    "\n",
    "\n",
    "    return matchImg"
   ]
  },
  {
   "cell_type": "markdown",
   "metadata": {},
   "source": [
    "## Test 1\n",
    "Probamos la detección del logo con detección de bordes por \"Canny\" y metodo de detección \"Coeficiente de correlación\"\n",
    "\n",
    "### Resultado\n",
    "18 detecciones sobre 19 totales (94.73%) y sin solapamientos"
   ]
  },
  {
   "cell_type": "code",
   "execution_count": 11,
   "metadata": {},
   "outputs": [],
   "source": [
    "scale = 10\n",
    "threshold = 4.6\n",
    "resultImg = multiScaleTemplateMatchingMultipleDetection(template, coca_multi,\"canny\",cv.TM_CCOEFF,scale,threshold)\n",
    "cv.imshow('resultImg',resultImg)\n",
    "cv.waitKey(0)\n",
    "cv.destroyAllWindows()"
   ]
  },
  {
   "cell_type": "markdown",
   "metadata": {},
   "source": [
    "## Test 2\n",
    "Probamos la detección del logo con detección de bordes por \"Laplaciano\" y metodo de detección \"Coeficiente de correlación\"\n",
    "\n",
    "### Resultado\n",
    "12 detecciones sobre 19 totales (63.15%)"
   ]
  },
  {
   "cell_type": "code",
   "execution_count": 12,
   "metadata": {},
   "outputs": [],
   "source": [
    "scale = 13\n",
    "threshold = 5.4\n",
    "resultImg = multiScaleTemplateMatchingMultipleDetection(template, coca_multi,\"laplacian\",cv.TM_CCOEFF,scale,threshold)\n",
    "cv.imshow('resultImg',resultImg)\n",
    "cv.waitKey(0)\n",
    "cv.destroyAllWindows()"
   ]
  },
  {
   "cell_type": "markdown",
   "metadata": {},
   "source": [
    "## Test 3\n",
    "Probamos la detección del logo con detección de bordes por \"Canny\" y metodo de detección \"Correlación Cruzada\"\n",
    "\n",
    "### Resultado\n",
    "18 detecciones sobre 19 totales (94.73%), con un único solapamiento"
   ]
  },
  {
   "cell_type": "code",
   "execution_count": 13,
   "metadata": {},
   "outputs": [],
   "source": [
    "scale = 11\n",
    "threshold = 3.6\n",
    "resultImg = multiScaleTemplateMatchingMultipleDetection(template, coca_multi,\"canny\",cv.TM_CCORR,scale,threshold)\n",
    "cv.imshow('resultImg',resultImg)\n",
    "cv.waitKey(0)\n",
    "cv.destroyAllWindows()"
   ]
  },
  {
   "cell_type": "markdown",
   "metadata": {},
   "source": [
    "## Test 4\n",
    "Probamos la detección del logo con detección de bordes por \"Laplaciano\" y metodo de detección \"Correlación Cruzada\"\n",
    "\n",
    "Resultado: 19 detecciones sobre 19 totales (100%), con 2 solapamientos "
   ]
  },
  {
   "cell_type": "code",
   "execution_count": 14,
   "metadata": {},
   "outputs": [],
   "source": [
    "scale = 13\n",
    "threshold = 3.3\n",
    "resultImg = multiScaleTemplateMatchingMultipleDetection(template, coca_multi,\"laplacian\",cv.TM_CCORR,scale,threshold)\n",
    "cv.imshow('resultImg',resultImg)\n",
    "cv.waitKey(0)\n",
    "cv.destroyAllWindows()"
   ]
  },
  {
   "cell_type": "markdown",
   "metadata": {},
   "source": [
    "## Analisis de resultados\n",
    "\n",
    "\n",
    "| Imagen            | CCOEFF + LAPLACIAN | CCOEFF + CANNY | CCORR + LAPLACIAN | CCORR + CANNY |\n",
    "|-------------------|--------------------|----------------|-------------------|---------------|\n",
    "| coca_multi        | 63.15 %            | 94.73 %        | 100 %             | 94.73 %       |\n",
    "\n",
    "\n",
    "Al analizar los resultados, podemos establecer que la mejor combinación de métrica de detección y filtro de detección de bordes es Correlación Cruzada y Canny, respectivamente.\n",
    "\n",
    "Es necesario aclarar que para lograr el objetivo de evitar falsos positivos, detectar la mayor cantidad logos correctemente y evitar solapamientos de bounding boxes, fue necesario encontrar mediante prueba y error los valores de n_scales y threshold para cada caso.\n",
    "A pesar que los valores de escalas establecidos varían entre 10 y 13 y los valores de umbral entre 3.3 y 5.4, pequeños cambios en dichos valores generan resultados muy distintos. Finalmente es necesario aclarar que para este caso, la métrica de detección que mejoraba las detecciones fueron aquellas que no se encontraban normalizadas.\n",
    "\n",
    "### Conclusión \n",
    "\n",
    "Como conclusión podemos establecer que el mejor mecanismo para la detección de logos sin falsos positivos para este caso en particular,es la combinación de Correlación cruzada como métrica de detección y Laplaciano como filtro de extracción de bordes.\n",
    "Sin embargo, esta forma de detectar múltiples detecciones es muy suceptible a los valores de entrada, haciendo ineficiente su uso de manera generalizada. Por lo que se recomendaría ir por otro de tipo de algoritmos, como aquellos orientados a descriptores de imagenes.\n"
   ]
  },
  {
   "cell_type": "markdown",
   "metadata": {},
   "source": [
    "# Parte 3: Generalizar el algoritmo del item 2 para todas las imágenes.\n",
    "\n",
    "Para este último caso vamos a probar la función presentada en el punto 2 sobre las imagenes utilizadas en el punto 1, junto con dos imagenes extraídas de internet para testear levemente la misma."
   ]
  },
  {
   "cell_type": "markdown",
   "metadata": {},
   "source": [
    "## Test 1\n",
    "\n",
    "Probamos la detección del logo con detección de bordes por \"Canny\" y metodo de detección \"Correlación Cruzada\" (multiple detección) y \"Correlación Cruzada Normalizada\" (detección singular)"
   ]
  },
  {
   "cell_type": "code",
   "execution_count": 15,
   "metadata": {},
   "outputs": [],
   "source": [
    "# Template Matching usando TM_CCORR_NORMED\n",
    "edge_detection = \"canny\" #\"canny\"\n",
    "resultImg = multiScaleTemplateMatchingMultipleDetection(template, coca_logo_1, edge_detection,cv.TM_CCORR_NORMED,10,5)\n",
    "cv.imshow('resultImg',resultImg)\n",
    "cv.waitKey(0)\n",
    "resultImg = multiScaleTemplateMatchingMultipleDetection(template, coca_logo_2,edge_detection,cv.TM_CCORR_NORMED, 1,1.5)\n",
    "cv.imshow('resultImg',resultImg)\n",
    "cv.waitKey(0)\n",
    "resultImg = multiScaleTemplateMatchingMultipleDetection(template, coca_cola_logo, edge_detection,cv.TM_CCORR_NORMED,10,5.5)\n",
    "cv.imshow('resultImg',resultImg)\n",
    "cv.waitKey(0)\n",
    "resultImg = multiScaleTemplateMatchingMultipleDetection(template, logo_1, edge_detection,cv.TM_CCORR_NORMED,10,4.5)\n",
    "cv.imshow('resultImg',resultImg)\n",
    "cv.waitKey(0)\n",
    "resultImg = multiScaleTemplateMatchingMultipleDetection(template, coca_retro_1, edge_detection,cv.TM_CCORR_NORMED,12,4.2)\n",
    "cv.imshow('resultImg',resultImg)\n",
    "cv.waitKey(0)\n",
    "resultImg = multiScaleTemplateMatchingMultipleDetection(template, coca_retro_2, edge_detection,cv.TM_CCORR_NORMED,10,5)\n",
    "cv.imshow('resultImg',resultImg) \n",
    "cv.waitKey(0)\n",
    "resultImg = multiScaleTemplateMatchingMultipleDetection(template, coca_multi, edge_detection,cv.TM_CCORR,11,3.6)\n",
    "cv.imshow('resultImg',resultImg)\n",
    "cv.waitKey(0)\n",
    "\n",
    "cv.destroyAllWindows()"
   ]
  },
  {
   "cell_type": "markdown",
   "metadata": {},
   "source": [
    "## Test 2\n",
    "\n",
    "Probamos la detección del logo con detección de bordes por \"Laplaciando\" y metodo de detección \"Correlación Cruzada\" (multiple detección) y \"Correlación Cruzada Normalizada\" (detección singular)"
   ]
  },
  {
   "cell_type": "code",
   "execution_count": 16,
   "metadata": {},
   "outputs": [],
   "source": [
    "edge_detection = \"laplacian\" #\"canny\"\n",
    "resultImg = multiScaleTemplateMatchingMultipleDetection(template, coca_logo_1, edge_detection,cv.TM_CCORR_NORMED,10,5)\n",
    "cv.imshow('resultImg',resultImg)\n",
    "cv.waitKey(0)\n",
    "resultImg = multiScaleTemplateMatchingMultipleDetection(template, coca_logo_2,edge_detection,cv.TM_CCORR_NORMED, 1,1.5)\n",
    "cv.imshow('resultImg',resultImg)\n",
    "cv.waitKey(0)\n",
    "resultImg = multiScaleTemplateMatchingMultipleDetection(template, coca_cola_logo, edge_detection,cv.TM_CCORR_NORMED,10,4.2)\n",
    "cv.imshow('resultImg',resultImg)\n",
    "cv.waitKey(0)\n",
    "resultImg = multiScaleTemplateMatchingMultipleDetection(template, logo_1, edge_detection,cv.TM_CCORR_NORMED,10,4.9)\n",
    "cv.imshow('resultImg',resultImg)\n",
    "cv.waitKey(0)\n",
    "resultImg = multiScaleTemplateMatchingMultipleDetection(template, coca_retro_1, edge_detection,cv.TM_CCORR_NORMED,12,4.2)\n",
    "cv.imshow('resultImg',resultImg)\n",
    "cv.waitKey(0)\n",
    "resultImg = multiScaleTemplateMatchingMultipleDetection(template, coca_retro_2, edge_detection,cv.TM_CCORR_NORMED,10,5)\n",
    "cv.imshow('resultImg',resultImg) \n",
    "cv.waitKey(0)\n",
    "resultImg = multiScaleTemplateMatchingMultipleDetection(template, coca_multi, edge_detection,cv.TM_CCORR,13,3.9)\n",
    "cv.imshow('resultImg',resultImg)\n",
    "cv.waitKey(0)\n",
    "\n",
    "cv.destroyAllWindows()"
   ]
  },
  {
   "cell_type": "markdown",
   "metadata": {},
   "source": [
    "## Test 3\n",
    "\n",
    "Finalmente probamos la funcion \"multiScaleTemplateMatchingMultipleDetection\" con dos imagenes descargas de internet, utilizando como filtro de detección de bordes \"Laplaciano\" y \"Correlación Cruzada\" como métrica de detección."
   ]
  },
  {
   "cell_type": "code",
   "execution_count": 17,
   "metadata": {},
   "outputs": [],
   "source": [
    "coca_test = cv.imread('images/coca_test.png')\n",
    "coca_test_2 = cv.imread('images/coca_test_2.png')\n",
    "coca_test_3 = cv.imread('images/coca_test_3.png')\n",
    "\n",
    "edge_detection = \"laplacian\"\n",
    "resultImg = multiScaleTemplateMatchingMultipleDetection(template, coca_test, edge_detection,cv.TM_CCORR,12,5.5)\n",
    "cv.imshow('resultImg',resultImg)\n",
    "cv.waitKey(0)\n",
    "resultImg = multiScaleTemplateMatchingMultipleDetection(template, coca_test_2, edge_detection,cv.TM_CCORR,4,3.5)\n",
    "cv.imshow('resultImg',resultImg)\n",
    "cv.waitKey(0)\n",
    "resultImg = multiScaleTemplateMatchingMultipleDetection(template, coca_test_3, edge_detection,cv.TM_CCORR,8,5.9)\n",
    "cv.imshow('resultImg',resultImg)\n",
    "cv.waitKey(0)\n",
    "cv.destroyAllWindows()"
   ]
  },
  {
   "cell_type": "markdown",
   "metadata": {},
   "source": [
    "## Conclusiones\n",
    "\n",
    "Podemos observar a partir de los 3 tests planteados anteriormente que la función establecida en el punto anterior puede utilizarse tanto para detecciones múltiples como para detecciones singulares. Es necesario volver a aclarar que para todos los casos fue necesario establecer, mediante el mecanismo de prueba y error, los valores de cantidad de sub-escalas y umbral de detección para obtener los resultados deseados. A su vez, se observa en el Test No. 3, que la función generaliza bastante bien para otras imagenes pero como se mencionó en el punto 1, el mismo sigue siendo muy suceptible a peuqeños cambios del template dentro de la imagen objetivo (nuevamente no se detecta el logo en las latas por la curvatura de las mismas)."
   ]
  }
 ],
 "metadata": {
  "kernelspec": {
   "display_name": "Python 3",
   "language": "python",
   "name": "python3"
  },
  "language_info": {
   "codemirror_mode": {
    "name": "ipython",
    "version": 3
   },
   "file_extension": ".py",
   "mimetype": "text/x-python",
   "name": "python",
   "nbconvert_exporter": "python",
   "pygments_lexer": "ipython3",
   "version": "3.11.9"
  }
 },
 "nbformat": 4,
 "nbformat_minor": 2
}
